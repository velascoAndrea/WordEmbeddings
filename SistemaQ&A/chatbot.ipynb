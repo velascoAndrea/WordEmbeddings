{
 "cells": [
  {
   "cell_type": "code",
   "execution_count": 34,
   "metadata": {},
   "outputs": [
    {
     "name": "stdout",
     "output_type": "stream",
     "text": [
      "GO VIAJE NEGRO:\n",
      "Mochila ideal para viajes y uso diario, apta para la cabina del avión, con 23 compartimentos (5 externos + 18 internos).\n",
      "Características técnicas incluyen espacio especial para laptop de hasta 15.6\", semi impermeabilidad, compartimento secreto para el pasaporte, bolsillo para pachón, capa de mesh en la espalda, tirantes ergonómicos y enguatados, y dos compartimentos principales para accesorios de tecnología y ropa.\n",
      "El compartimento de tecnología cuenta con espacio para laptop, tablet de 10 pulgadas, libretas, bolsillos elásticos multiusos, porta lapiceros, y bolsillo con red y zipper.\n",
      "El compartimento de viaje ofrece diversos bolsillos con redes elásticas y zipper, amplio espacio para ropa, y compatibilidad con el Organizador Molvu (se vende por separado).\n",
      "Medidas cumplen con estándar de equipaje de mano.\n",
      "\n",
      "GO LIGHT NEGRO:\n",
      "Mochila ligera y minimalista para laptop, semi impermeable, perfecta para uso diario.\n",
      "Características técnicas incluyen espacio especial para laptop de hasta 15.6\", tirantes ergonómicos y enguatados, compartimento principal con varios bolsillos internos, bolsillo externo express, y cinta en el respaldo para acoplar sobre maleta de viaje.\n",
      "El compartimento principal tiene espacio para laptop, tablet de 10 pulgadas, libretas, bolsillos elásticos multiusos, porta lapiceros, y bolsillo con red y zipper.\n",
      "Medidas son compactas, cumpliendo con altos estándares.\n",
      "\n",
      "GO GRIS OSCURO:\n",
      "Mochila para laptop antirrobo Molvu Go Black, semi impermeable, con sistema de seguridad y materiales repelentes al agua.\n",
      "Ideal para uso diario y resistente.\n",
      "Características técnicas incluyen espacio para laptop de hasta 15.6\", sistema antirrobo, compartimento secreto, bolsillo express, capa de mesh en la espalda, tirantes ergonómicos, y compartimento principal con diversos espacios.\n",
      "Medidas cumplen con estándares y son compatibles con el Organizador Molvu (se vende por separado).\n",
      "\n",
      "U2 VERDE CON CELESTE:\n",
      "Mochila para laptop Molvu U2, semi impermeable, con 7 compartimentos externos y variados espacios internos.\n",
      "Características técnicas incluyen espacio especial para laptop de 15.6\", materiales repelentes al agua, compartimento secreto, bolsillo express, capa de mesh en la espalda, tirantes ergonómicos, y tres compartimentos principales con distintos usos.\n",
      "Medidas son adecuadas para su uso.\n",
      "\n",
      "BUSINESS 6 CAFÉ:\n",
      "Mochila ejecutiva Business 6, compacta y elegante, semi impermeable.\n",
      "Ideal para profesionales con capacidad de 30 litros.\n",
      "Características importantes incluyen estilo compacto, 8 compartimentos principales, porta pachones, y compatibilidad con maletas de viaje.\n",
      "Materiales de alta calidad, respaldo acolchado, tirantes ajustables y ajustador de pecho.\n",
      "Espacio para laptop de hasta 15\", impermeabilidad parcial y medidas que cumplen con estándares.\n"
     ]
    }
   ],
   "source": [
    "with open(\"molvufile.txt\", \"r\") as file:\n",
    "    content = file.read()\n",
    "print(content)"
   ]
  },
  {
   "cell_type": "code",
   "execution_count": 35,
   "metadata": {},
   "outputs": [
    {
     "data": {
      "text/plain": [
       "'GO VIAJE NEGRO: Mochila ideal para viajes y uso diario, apta para la cabina del avión, con 23 compartimentos (5 externos + 18 internos). Características técnicas incluyen espacio especial para laptop de hasta 15.6\", semi impermeabilidad, compartimento secreto para el pasaporte, bolsillo para pachón, capa de mesh en la espalda, tirantes ergonómicos y enguatados, y dos compartimentos principales para accesorios de tecnología y ropa. El compartimento de tecnología cuenta con espacio para laptop, tablet de 10 pulgadas, libretas, bolsillos elásticos multiusos, porta lapiceros, y bolsillo con red y zipper. El compartimento de viaje ofrece diversos bolsillos con redes elásticas y zipper, amplio espacio para ropa, y compatibilidad con el Organizador Molvu (se vende por separado). Medidas cumplen con estándar de equipaje de mano. GO LIGHT NEGRO: Mochila ligera y minimalista para laptop, semi impermeable, perfecta para uso diario. Características técnicas incluyen espacio especial para laptop de hasta 15.6\", tirantes ergonómicos y enguatados, compartimento principal con varios bolsillos internos, bolsillo externo express, y cinta en el respaldo para acoplar sobre maleta de viaje. El compartimento principal tiene espacio para laptop, tablet de 10 pulgadas, libretas, bolsillos elásticos multiusos, porta lapiceros, y bolsillo con red y zipper. Medidas son compactas, cumpliendo con altos estándares. GO GRIS OSCURO: Mochila para laptop antirrobo Molvu Go Black, semi impermeable, con sistema de seguridad y materiales repelentes al agua. Ideal para uso diario y resistente. Características técnicas incluyen espacio para laptop de hasta 15.6\", sistema antirrobo, compartimento secreto, bolsillo express, capa de mesh en la espalda, tirantes ergonómicos, y compartimento principal con diversos espacios. Medidas cumplen con estándares y son compatibles con el Organizador Molvu (se vende por separado). U2 VERDE CON CELESTE: Mochila para laptop Molvu U2, semi impermeable, con 7 compartimentos externos y variados espacios internos. Características técnicas incluyen espacio especial para laptop de 15.6\", materiales repelentes al agua, compartimento secreto, bolsillo express, capa de mesh en la espalda, tirantes ergonómicos, y tres compartimentos principales con distintos usos. Medidas son adecuadas para su uso. BUSINESS 6 CAFÉ: Mochila ejecutiva Business 6, compacta y elegante, semi impermeable. Ideal para profesionales con capacidad de 30 litros. Características importantes incluyen estilo compacto, 8 compartimentos principales, porta pachones, y compatibilidad con maletas de viaje. Materiales de alta calidad, respaldo acolchado, tirantes ajustables y ajustador de pecho. Espacio para laptop de hasta 15\", impermeabilidad parcial y medidas que cumplen con estándares.'"
      ]
     },
     "execution_count": 35,
     "metadata": {},
     "output_type": "execute_result"
    }
   ],
   "source": [
    "def remove_newlines(serie):\n",
    "    serie = serie.replace('\\n', ' ')\n",
    "    serie = serie.replace('\\\\n', ' ')\n",
    "    serie = serie.replace('  ', ' ')\n",
    "    serie = serie.replace('  ', ' ')\n",
    "    return serie\n",
    "\n",
    "remove_newlines(content)"
   ]
  },
  {
   "cell_type": "code",
   "execution_count": 36,
   "metadata": {},
   "outputs": [
    {
     "data": {
      "text/html": [
       "<div>\n",
       "<style scoped>\n",
       "    .dataframe tbody tr th:only-of-type {\n",
       "        vertical-align: middle;\n",
       "    }\n",
       "\n",
       "    .dataframe tbody tr th {\n",
       "        vertical-align: top;\n",
       "    }\n",
       "\n",
       "    .dataframe thead th {\n",
       "        text-align: right;\n",
       "    }\n",
       "</style>\n",
       "<table border=\"1\" class=\"dataframe\">\n",
       "  <thead>\n",
       "    <tr style=\"text-align: right;\">\n",
       "      <th></th>\n",
       "      <th>text</th>\n",
       "    </tr>\n",
       "  </thead>\n",
       "  <tbody>\n",
       "    <tr>\n",
       "      <th>0</th>\n",
       "      <td>GO VIAJE NEGRO: Mochila ideal para viajes y us...</td>\n",
       "    </tr>\n",
       "  </tbody>\n",
       "</table>\n",
       "</div>"
      ],
      "text/plain": [
       "                                                text\n",
       "0  GO VIAJE NEGRO: Mochila ideal para viajes y us..."
      ]
     },
     "execution_count": 36,
     "metadata": {},
     "output_type": "execute_result"
    }
   ],
   "source": [
    "import pandas as pd\n",
    "\n",
    "df = pd.DataFrame({'text': [remove_newlines(content)]})\n",
    "df.to_csv('processed.csv', index=False)\n",
    "df.head()"
   ]
  },
  {
   "cell_type": "code",
   "execution_count": 37,
   "metadata": {},
   "outputs": [
    {
     "data": {
      "text/plain": [
       "<Axes: >"
      ]
     },
     "execution_count": 37,
     "metadata": {},
     "output_type": "execute_result"
    },
    {
     "data": {
      "image/png": "[encoded data removed]",
      "text/plain": [
       "<Figure size 640x480 with 1 Axes>"
      ]
     },
     "metadata": {},
     "output_type": "display_data"
    }
   ],
   "source": [
    "import tiktoken\n",
    "import matplotlib\n",
    "tokenizer = tiktoken.get_encoding(\"cl100k_base\")\n",
    "df = pd.read_csv('processed.csv')\n",
    "df.columns = ['text']\n",
    "df['n_tokens'] = df.text.apply(lambda x: len(tokenizer.encode(x)))\n",
    "df.n_tokens.hist()"
   ]
  },
  {
   "cell_type": "code",
   "execution_count": 38,
   "metadata": {},
   "outputs": [],
   "source": [
    "max_tokens = 150\n",
    "# Function to split the text into chunks of a maximum number of tokens\n",
    "def split_into_many(text, max_tokens = max_tokens):\n",
    "    # Split the text into sentences\n",
    "    sentences = text.split('.\\n')\n",
    "    \n",
    "    # Get the number of tokens for each sentence\n",
    "    n_tokens = [len(tokenizer.encode(\" \" + sentence)) for sentence in sentences]\n",
    "    chunks = []\n",
    "    tokens_so_far = 0\n",
    "    chunk = []\n",
    "    # Loop through the sentences and tokens joined together in a tuple\n",
    "    for sentence, token in zip(sentences, n_tokens):\n",
    "        # If the number of tokens so far plus the number of tokens in the current sentence is greater\n",
    "        # than the max number of tokens, then add the chunk to the list of chunks and reset\n",
    "        # the chunk and tokens so far\n",
    "        if tokens_so_far + token > max_tokens:\n",
    "            chunks.append(\". \".join(chunk) + \".\")\n",
    "            chunk = []\n",
    "            tokens_so_far = 0\n",
    "        # If the number of tokens in the current sentence is greater than the max number of\n",
    "        # tokens, go to the next sentence\n",
    "        if token > max_tokens:\n",
    "            continue\n",
    "        # Otherwise, add the sentence to the chunk and add the number of tokens to the total\n",
    "        chunk.append(sentence)\n",
    "        tokens_so_far += token + 1\n",
    "    return chunks\n",
    "# shortened = []\n",
    "\n",
    "# shortened = split_into_many(content)\n",
    "shortened = []\n",
    "# print(shortened)\n",
    "# print(len(shortened))\n",
    "for row in df.iterrows():\n",
    "    if row[1]['text'] is None:\n",
    "        continue\n",
    "    if row[1]['n_tokens'] > max_tokens:\n",
    "        shortened += split_into_many(content)\n",
    "    else:\n",
    "        shortened.append(content)"
   ]
  },
  {
   "cell_type": "code",
   "execution_count": 39,
   "metadata": {},
   "outputs": [
    {
     "data": {
      "text/plain": [
       "<Axes: >"
      ]
     },
     "execution_count": 39,
     "metadata": {},
     "output_type": "execute_result"
    },
    {
     "data": {
      "image/png": "[encoded data removed]",
      "text/plain": [
       "<Figure size 640x480 with 1 Axes>"
      ]
     },
     "metadata": {},
     "output_type": "display_data"
    }
   ],
   "source": [
    "df = pd.DataFrame(shortened, columns = ['text'])\n",
    "df['n_tokens'] = df.text.apply(lambda x: len(tokenizer.encode(x)))\n",
    "df.n_tokens.hist()"
   ]
  },
  {
   "cell_type": "code",
   "execution_count": 41,
   "metadata": {},
   "outputs": [
    {
     "data": {
      "text/html": [
       "<div>\n",
       "<style scoped>\n",
       "    .dataframe tbody tr th:only-of-type {\n",
       "        vertical-align: middle;\n",
       "    }\n",
       "\n",
       "    .dataframe tbody tr th {\n",
       "        vertical-align: top;\n",
       "    }\n",
       "\n",
       "    .dataframe thead th {\n",
       "        text-align: right;\n",
       "    }\n",
       "</style>\n",
       "<table border=\"1\" class=\"dataframe\">\n",
       "  <thead>\n",
       "    <tr style=\"text-align: right;\">\n",
       "      <th></th>\n",
       "      <th>n_tokens</th>\n",
       "      <th>embeddings</th>\n",
       "    </tr>\n",
       "    <tr>\n",
       "      <th>text</th>\n",
       "      <th></th>\n",
       "      <th></th>\n",
       "    </tr>\n",
       "  </thead>\n",
       "  <tbody>\n",
       "    <tr>\n",
       "      <th>GO VIAJE NEGRO:\\nMochila ideal para viajes y uso diario, apta para la cabina del avión, con 23 compartimentos (5 externos + 18 internos). Características técnicas incluyen espacio especial para laptop de hasta 15.6\", semi impermeabilidad, compartimento secreto para el pasaporte, bolsillo para pachón, capa de mesh en la espalda, tirantes ergonómicos y enguatados, y dos compartimentos principales para accesorios de tecnología y ropa.</th>\n",
       "      <td>120</td>\n",
       "      <td>[-0.005336785223335028, -0.007172850426286459,...</td>\n",
       "    </tr>\n",
       "    <tr>\n",
       "      <th>El compartimento de tecnología cuenta con espacio para laptop, tablet de 10 pulgadas, libretas, bolsillos elásticos multiusos, porta lapiceros, y bolsillo con red y zipper. El compartimento de viaje ofrece diversos bolsillos con redes elásticas y zipper, amplio espacio para ropa, y compatibilidad con el Organizador Molvu (se vende por separado). Medidas cumplen con estándar de equipaje de mano. \\nGO LIGHT NEGRO:\\nMochila ligera y minimalista para laptop, semi impermeable, perfecta para uso diario.</th>\n",
       "      <td>131</td>\n",
       "      <td>[-0.012381264008581638, -0.0051605431362986565...</td>\n",
       "    </tr>\n",
       "    <tr>\n",
       "      <th>Características técnicas incluyen espacio especial para laptop de hasta 15.6\", tirantes ergonómicos y enguatados, compartimento principal con varios bolsillos internos, bolsillo externo express, y cinta en el respaldo para acoplar sobre maleta de viaje. El compartimento principal tiene espacio para laptop, tablet de 10 pulgadas, libretas, bolsillos elásticos multiusos, porta lapiceros, y bolsillo con red y zipper. Medidas son compactas, cumpliendo con altos estándares.</th>\n",
       "      <td>121</td>\n",
       "      <td>[0.004413612652570009, 0.011583236977458, 0.02...</td>\n",
       "    </tr>\n",
       "    <tr>\n",
       "      <th>\\nGO GRIS OSCURO:\\nMochila para laptop antirrobo Molvu Go Black, semi impermeable, con sistema de seguridad y materiales repelentes al agua. Ideal para uso diario y resistente. Características técnicas incluyen espacio para laptop de hasta 15.6\", sistema antirrobo, compartimento secreto, bolsillo express, capa de mesh en la espalda, tirantes ergonómicos, y compartimento principal con diversos espacios. Medidas cumplen con estándares y son compatibles con el Organizador Molvu (se vende por separado).</th>\n",
       "      <td>133</td>\n",
       "      <td>[-0.006364055909216404, -0.010254309512674809,...</td>\n",
       "    </tr>\n",
       "    <tr>\n",
       "      <th>\\nU2 VERDE CON CELESTE:\\nMochila para laptop Molvu U2, semi impermeable, con 7 compartimentos externos y variados espacios internos. Características técnicas incluyen espacio especial para laptop de 15.6\", materiales repelentes al agua, compartimento secreto, bolsillo express, capa de mesh en la espalda, tirantes ergonómicos, y tres compartimentos principales con distintos usos. Medidas son adecuadas para su uso. \\nBUSINESS 6 CAFÉ:\\nMochila ejecutiva Business 6, compacta y elegante, semi impermeable.</th>\n",
       "      <td>142</td>\n",
       "      <td>[-0.0007105684489943087, -0.003446724032983184...</td>\n",
       "    </tr>\n",
       "  </tbody>\n",
       "</table>\n",
       "</div>"
      ],
      "text/plain": [
       "                                                    n_tokens  \\\n",
       "text                                                           \n",
       "GO VIAJE NEGRO:\\nMochila ideal para viajes y us...       120   \n",
       "El compartimento de tecnología cuenta con espac...       131   \n",
       "Características técnicas incluyen espacio espec...       121   \n",
       "\\nGO GRIS OSCURO:\\nMochila para laptop antirrob...       133   \n",
       "\\nU2 VERDE CON CELESTE:\\nMochila para laptop Mo...       142   \n",
       "\n",
       "                                                                                           embeddings  \n",
       "text                                                                                                   \n",
       "GO VIAJE NEGRO:\\nMochila ideal para viajes y us...  [-0.005336785223335028, -0.007172850426286459,...  \n",
       "El compartimento de tecnología cuenta con espac...  [-0.012381264008581638, -0.0051605431362986565...  \n",
       "Características técnicas incluyen espacio espec...  [0.004413612652570009, 0.011583236977458, 0.02...  \n",
       "\\nGO GRIS OSCURO:\\nMochila para laptop antirrob...  [-0.006364055909216404, -0.010254309512674809,...  \n",
       "\\nU2 VERDE CON CELESTE:\\nMochila para laptop Mo...  [-0.0007105684489943087, -0.003446724032983184...  "
      ]
     },
     "execution_count": 41,
     "metadata": {},
     "output_type": "execute_result"
    }
   ],
   "source": [
    "import numpy as np\n",
    "from scipy.spatial.distance import cosine\n",
    "\n",
    "df=pd.read_csv('embedings.csv', index_col=0)\n",
    "df['embeddings'] = df['embeddings'].apply(eval).apply(np.array)\n",
    "df.head()\n",
    "\n"
   ]
  },
  {
   "cell_type": "code",
   "execution_count": 42,
   "metadata": {},
   "outputs": [],
   "source": [
    "def create_context(\n",
    "    question, df, max_len=1800, size=\"ada\"\n",
    "):\n",
    "    \"\"\"\n",
    "    Create a context for a question by finding the most similar context from the dataframe\n",
    "    \"\"\"\n",
    "\n",
    "    q_embeddings = get_embedding(question)\n",
    "    # q_embeddings = client.embeddings.create(input=question, engine='text-embedding-ada-002')['data'][0]['embedding']\n",
    "    # Get the distances from the embeddings\n",
    "    df[\"distances\"] = df[\"embeddings\"].apply(lambda x: cosine(q_embeddings, x))\n",
    "\n",
    "    returns = []\n",
    "    cur_len = 0\n",
    "    \n",
    "    for i, row in df.sort_values('distances', ascending=True).iterrows():\n",
    "        cur_len += row['n_tokens'] + 4\n",
    "        if cur_len > max_len:\n",
    "            break\n",
    "        returns.append(str(i))\n",
    "    return \", \".join(returns)\n"
   ]
  },
  {
   "cell_type": "code",
   "execution_count": 43,
   "metadata": {},
   "outputs": [],
   "source": [
    "def answer_question(\n",
    "    df,\n",
    "    model=\"gpt-3.5-turbo\",\n",
    "    question=\"Am I allowed to publish model outputs to Twitter, without a human review?\",\n",
    "    max_len=500,\n",
    "    size=\"ada\",\n",
    "    debug=False,\n",
    "    max_tokens=150,\n",
    "    stop_sequence=None\n",
    "):\n",
    "    \"\"\"\n",
    "    Answer a question based on the most similar context from the dataframe texts\n",
    "    \"\"\"\n",
    "    context = create_context(\n",
    "        question,\n",
    "        df,\n",
    "        max_len=max_len,\n",
    "        size=size,\n",
    "    )\n",
    "    # If debug, print the raw model response\n",
    "    if debug:\n",
    "        print(\"Contexto:\\n\")\n",
    "        print(context)\n",
    "        print(\"\\n\\n\")\n",
    "\n",
    "    try:\n",
    "        # Create a chat completion using the question and context\n",
    "        response = client.chat.completions.create(\n",
    "            model=\"gpt-3.5-turbo\",\n",
    "            messages=[\n",
    "                {\"role\": \"system\", \"content\": \"Responde la pregunta basandote en el contexto, hazlo de manera clara. Si no puedes reponder basado en el contexto, solamente di 'Escribe AGENTE para más información.'\"},\n",
    "                {\"role\": \"system\", \"content\": f\"contexto: {context}\"},\n",
    "                {\"role\": \"user\", \"content\": f\"pregunta: {question}\"},\n",
    "                {\"role\": \"assistant\", \"content\": \"respuesta:\"}\n",
    "                # {\"role\": \"user\", f\"content\": \"Contexto: {context}\\n\\n---\\n\\nPregunta: {question}\\nRespuesta:\"}\n",
    "            ],\n",
    "            temperature=0,\n",
    "            max_tokens=max_tokens,\n",
    "            top_p=1,\n",
    "            frequency_penalty=0,\n",
    "            presence_penalty=0,\n",
    "            stop=stop_sequence,\n",
    "        )\n",
    "        return response.choices[0].message.content\n",
    "    except Exception as e:\n",
    "        print(e)\n",
    "        return \"\""
   ]
  },
  {
   "cell_type": "code",
   "execution_count": 32,
   "metadata": {},
   "outputs": [
    {
     "data": {
      "text/plain": [
       "'La mochila GO VIAJE NEGRO tiene un espacio especial para laptop de hasta 15.6\" y cuenta con dos compartimentos principales para accesorios de tecnología y ropa, lo que la convierte en la opción con mayor capacidad de almacenamiento para tu laptop.'"
      ]
     },
     "execution_count": 32,
     "metadata": {},
     "output_type": "execute_result"
    }
   ],
   "source": [
    "answer_question(df, question=\"¿Que mochila tiene el espacio mas grande para almacenar mi laptop?\", max_tokens=100)"
   ]
  },
  {
   "cell_type": "code",
   "execution_count": 12,
   "metadata": {},
   "outputs": [
    {
     "data": {
      "text/plain": [
       "'La mochila más amplia es la GO VIAJE NEGRO, ya que cuenta con 23 compartimentos (5 externos + 18 internos) y ofrece un amplio espacio para ropa y accesorios de tecnología.'"
      ]
     },
     "execution_count": 12,
     "metadata": {},
     "output_type": "execute_result"
    }
   ],
   "source": [
    "answer_question(df, question=\"¿Cual es la mochila mas amplia?\")"
   ]
  },
  {
   "cell_type": "code",
   "execution_count": 13,
   "metadata": {},
   "outputs": [
    {
     "data": {
      "text/plain": [
       "'Basado en el contexto, te recomendaría la mochila GO VIAJE NEGRO. Esta mochila es ideal para viajes y uso diario, y cuenta con 23 compartimentos, incluyendo un espacio especial para laptop, compartimento secreto para el pasaporte y amplio espacio para ropa. Además, es semi impermeable y cumple con los estándares de equipaje de mano.'"
      ]
     },
     "execution_count": 13,
     "metadata": {},
     "output_type": "execute_result"
    }
   ],
   "source": [
    "answer_question(df, question=\"Me gusta acampar ¿Qué mochila me recomiendas?\", max_tokens=100)"
   ]
  },
  {
   "cell_type": "code",
   "execution_count": 14,
   "metadata": {},
   "outputs": [
    {
     "data": {
      "text/plain": [
       "'La mochila más liviana es la GO LIGHT NEGRO.'"
      ]
     },
     "execution_count": 14,
     "metadata": {},
     "output_type": "execute_result"
    }
   ],
   "source": [
    "answer_question(df, question=\"¿Qué mochila es la más liviana?\", max_tokens=100)"
   ]
  },
  {
   "cell_type": "code",
   "execution_count": 15,
   "metadata": {},
   "outputs": [
    {
     "data": {
      "text/plain": [
       "'La mochila más pequeña y portátil es la GO LIGHT NEGRO. Es una mochila ligera y minimalista, perfecta para uso diario. Tiene espacio para laptop, es semi impermeable y cumple con los estándares de equipaje de mano.'"
      ]
     },
     "execution_count": 15,
     "metadata": {},
     "output_type": "execute_result"
    }
   ],
   "source": [
    "answer_question(df, question=\"¿Qué mochila es la mas pequeña y portatil?\", max_tokens=100)"
   ]
  },
  {
   "cell_type": "code",
   "execution_count": 44,
   "metadata": {},
   "outputs": [
    {
     "data": {
      "text/plain": [
       "'La mejor mochila dependerá de tus necesidades y preferencias. Si buscas una mochila con muchos compartimentos y espacio para llevar accesorios de tecnología y ropa, la mochila GO VIAJE NEGRO podría ser una buena opción. Si prefieres una mochila ligera y minimalista para uso diario, la mochila GO LIGHT NEGRO podría ser la adecuada. Si necesitas una mochila para laptop con varios compartimentos'"
      ]
     },
     "execution_count": 44,
     "metadata": {},
     "output_type": "execute_result"
    }
   ],
   "source": [
    "answer_question(df, question=\"¿Cual es la mejor mochila?\", max_tokens=100)"
   ]
  },
  {
   "cell_type": "code",
   "execution_count": null,
   "metadata": {},
   "outputs": [],
   "source": []
  }
 ],
 "metadata": {
  "kernelspec": {
   "display_name": "Python 3 (ipykernel)",
   "language": "python",
   "name": "python3"
  },
  "language_info": {
   "codemirror_mode": {
    "name": "ipython",
    "version": 3
   },
   "file_extension": ".py",
   "mimetype": "text/x-python",
   "name": "python",
   "nbconvert_exporter": "python",
   "pygments_lexer": "ipython3",
   "version": "3.8.10"
  }
 },
 "nbformat": 4,
 "nbformat_minor": 4
}
