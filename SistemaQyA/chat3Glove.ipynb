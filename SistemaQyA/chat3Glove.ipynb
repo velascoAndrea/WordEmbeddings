{
 "cells": [
  {
   "cell_type": "code",
   "execution_count": 1,
   "metadata": {},
   "outputs": [],
   "source": [
    "import os\n",
    "import spacy\n",
    "import numpy as np\n",
    "import pandas as pd\n",
    "from sklearn.metrics.pairwise import cosine_similarity\n",
    "from sklearn.feature_extraction.text import TfidfVectorizer\n",
    "# Cargar el modelo de lenguaje en español de SpaCy\n",
    "nlp = spacy.load('en_core_web_sm')"
   ]
  },
  {
   "cell_type": "code",
   "execution_count": 2,
   "metadata": {},
   "outputs": [],
   "source": [
    "# Función de preprocesamiento avanzado\n",
    "def advanced_preprocess(text):\n",
    "    doc = nlp(text.lower())\n",
    "    tokens = [token.lemma_ for token in doc if not token.is_punct and not token.is_space and not token.is_stop]\n",
    "    return tokens\n"
   ]
  },
  {
   "cell_type": "code",
   "execution_count": 3,
   "metadata": {},
   "outputs": [],
   "source": [
    "# Directorio donde están los archivos\n",
    "directory = \"ArchivosWiki\"\n",
    "\n",
    "# Preparar los datos\n",
    "sentences = []\n",
    "contexts = []\n",
    "for filename in os.listdir(directory):\n",
    "    if filename.endswith(\".txt\"):\n",
    "        filepath = os.path.join(directory, filename)\n",
    "        with open(filepath, \"r\", encoding='utf-8') as file:\n",
    "            content = file.read()\n",
    "        \n",
    "        # Dividir el contenido en fragmentos más pequeños si es necesario\n",
    "        max_chunk_size = 100000  # Tamaño máximo de cada fragmento\n",
    "        content_chunks = [content[i:i+max_chunk_size] for i in range(0, len(content), max_chunk_size)]\n",
    "        \n",
    "        for chunk in content_chunks:\n",
    "            # Preprocesar el fragmento\n",
    "            tokens = advanced_preprocess(chunk)\n",
    "            sentences.append(tokens)\n",
    "            \n",
    "            # Dividir el fragmento en oraciones utilizando SpaCy\n",
    "            doc = nlp(chunk)\n",
    "            paragraphs = [sent.text.strip() for sent in doc.sents]\n",
    "            contexts.extend(paragraphs)\n"
   ]
  },
  {
   "cell_type": "code",
   "execution_count": 4,
   "metadata": {},
   "outputs": [],
   "source": [
    "# Crear un DataFrame con los contextos\n",
    "df = pd.DataFrame({'text': contexts})\n"
   ]
  },
  {
   "cell_type": "code",
   "execution_count": 5,
   "metadata": {},
   "outputs": [
    {
     "name": "stderr",
     "output_type": "stream",
     "text": [
      "/home/velasco/Documentos/Proyectos/MachineLearning/Tesis/SistemaQyA/.venv/lib/python3.11/site-packages/sklearn/feature_extraction/text.py:521: UserWarning: The parameter 'token_pattern' will not be used since 'tokenizer' is not None'\n",
      "  warnings.warn(\n"
     ]
    }
   ],
   "source": [
    "# Generar una matriz TF-IDF para ponderar los embeddings\n",
    "vectorizer = TfidfVectorizer(tokenizer=lambda x: advanced_preprocess(x), lowercase=True)\n",
    "tfidf_matrix = vectorizer.fit_transform(df['text'])\n",
    "tfidf_feature_names = vectorizer.get_feature_names_out()\n",
    "\n",
    "# Crear un diccionario palabra: idf\n",
    "idf_dict = dict(zip(tfidf_feature_names, vectorizer.idf_))\n"
   ]
  },
  {
   "cell_type": "markdown",
   "metadata": {},
   "source": [
    "Paso 1: Cargar los Embeddings de GloVe\n",
    "Primero, necesitamos cargar los embeddings desde el archivo glove.6B.300d.txt:"
   ]
  },
  {
   "cell_type": "code",
   "execution_count": 6,
   "metadata": {},
   "outputs": [],
   "source": [
    "# Función para cargar los embeddings de GloVe\n",
    "def load_glove_embeddings(file_path):\n",
    "    embeddings_index = {}\n",
    "    with open(file_path, 'r', encoding='utf-8') as f:\n",
    "        for line in f:\n",
    "            values = line.strip().split()\n",
    "            word = values[0]\n",
    "            try:\n",
    "                coefs = np.asarray(values[1:], dtype='float32')\n",
    "                embeddings_index[word] = coefs\n",
    "            except ValueError:\n",
    "                continue\n",
    "    return embeddings_index\n",
    "\n",
    "# Cargar los embeddings\n",
    "glove_embeddings = load_glove_embeddings('./ModelosEmbeddings/Glove/glove.6B.300d.txt')\n"
   ]
  },
  {
   "cell_type": "markdown",
   "metadata": {},
   "source": [
    "Paso 2: Modificar la Función para Obtener Embeddings de Oraciones\n",
    "Actualiza la función get_weighted_sentence_embedding para utilizar los embeddings de GloVe:"
   ]
  },
  {
   "cell_type": "code",
   "execution_count": 7,
   "metadata": {},
   "outputs": [],
   "source": [
    "def get_weighted_sentence_embedding(sentence, embeddings_index, idf_dict, vector_size=300):\n",
    "    tokens = advanced_preprocess(sentence)\n",
    "    word_embeddings = []\n",
    "    weights = []\n",
    "    for word in tokens:\n",
    "        if word in embeddings_index and word in idf_dict:\n",
    "            word_embeddings.append(embeddings_index[word])\n",
    "            weights.append(idf_dict[word])\n",
    "    if not word_embeddings:\n",
    "        return np.zeros(vector_size)\n",
    "    word_embeddings = np.array(word_embeddings)\n",
    "    weights = np.array(weights).reshape(-1, 1)\n",
    "    weighted_average = np.sum(word_embeddings * weights, axis=0) / np.sum(weights)\n",
    "    return weighted_average\n",
    "\n"
   ]
  },
  {
   "cell_type": "code",
   "execution_count": 8,
   "metadata": {},
   "outputs": [],
   "source": [
    "# Generar embeddings para cada contexto usando GloVe\n",
    "df['embeddings'] = df['text'].apply(lambda x: get_weighted_sentence_embedding(x, glove_embeddings, idf_dict, vector_size=300))\n",
    "\n"
   ]
  },
  {
   "cell_type": "code",
   "execution_count": 9,
   "metadata": {},
   "outputs": [],
   "source": [
    "def find_most_relevant_contexts(question, df, embeddings_index, idf_dict, top_n=3, vector_size=300):\n",
    "    question_embedding = get_weighted_sentence_embedding(question, embeddings_index, idf_dict, vector_size)\n",
    "    context_embeddings = np.vstack(df['embeddings'].values)\n",
    "    similarities = cosine_similarity([question_embedding], context_embeddings)[0]\n",
    "    df['similarity'] = similarities\n",
    "    top_indices = df['similarity'].argsort()[-top_n:][::-1]\n",
    "    most_relevant_contexts = df.iloc[top_indices]['text'].tolist()\n",
    "    return most_relevant_contexts\n"
   ]
  },
  {
   "cell_type": "code",
   "execution_count": 10,
   "metadata": {},
   "outputs": [
    {
     "name": "stdout",
     "output_type": "stream",
     "text": [
      "Pregunta: ¿Qué es la fotosíntesis?\n",
      "Contextos más relevantes:\n",
      "1. ==See also==\n",
      "\n",
      "===Structure-related concepts===\n",
      "\n",
      "(For example, in )\n",
      "\n",
      "==Footnotes==\n",
      "\n",
      "===Works cited===\n",
      "\n",
      "==Further reading==\n",
      "\n",
      "==External links==\n",
      "2. John Potts of Potts, Oliver and Potts used a copper-engraved master to produce rollers to transfer the inks.\n",
      "3. The production volume for printed cloth in Lancashire in 1750 was estimated at 50,000 pieces of 30; in 1850, it was 20,000,000 pieces.\n"
     ]
    }
   ],
   "source": [
    "# Ejemplo de uso\n",
    "question = \"¿Qué es la fotosíntesis?\"\n",
    "\n",
    "# Encontrar los contextos más relevantes\n",
    "most_relevant_contexts = find_most_relevant_contexts(question, df, glove_embeddings, idf_dict, top_n=3, vector_size=300)\n",
    "\n",
    "# Imprimir los contextos más relevantes\n",
    "print(\"Pregunta:\", question)\n",
    "print(\"Contextos más relevantes:\")\n",
    "for idx, context in enumerate(most_relevant_contexts, 1):\n",
    "    print(f\"{idx}. {context}\")\n"
   ]
  },
  {
   "cell_type": "code",
   "execution_count": 11,
   "metadata": {},
   "outputs": [],
   "source": [
    "import pickle\n",
    "\n",
    "# Guardar el DataFrame en un archivo pickle\n",
    "with open('context_embeddings.pkl', 'wb') as f:\n",
    "    pickle.dump(df, f)\n"
   ]
  },
  {
   "cell_type": "code",
   "execution_count": 12,
   "metadata": {},
   "outputs": [],
   "source": [
    "# Convertir la columna de embeddings en una matriz numpy\n",
    "embeddings_matrix = np.vstack(df['embeddings'].values)\n",
    "\n",
    "# Guardar los embeddings en un archivo numpy\n",
    "np.save('embeddingsGlove.npy', embeddings_matrix)\n"
   ]
  },
  {
   "cell_type": "code",
   "execution_count": 13,
   "metadata": {},
   "outputs": [],
   "source": [
    "# Guardar los textos y otros datos en un archivo CSV\n",
    "df.drop('embeddings', axis=1).to_csv('context_dataGlove.csv', index=False)\n"
   ]
  },
  {
   "cell_type": "code",
   "execution_count": 14,
   "metadata": {},
   "outputs": [],
   "source": [
    "# Guardar idf_dict en un archivo pickle\n",
    "with open('idf_dict.pkl', 'wb') as f:\n",
    "    pickle.dump(idf_dict, f)\n"
   ]
  },
  {
   "cell_type": "code",
   "execution_count": 15,
   "metadata": {},
   "outputs": [],
   "source": [
    "# Guardar los embeddings de GloVe en un archivo pickle\n",
    "with open('glove_embeddings.pkl', 'wb') as f:\n",
    "    pickle.dump(glove_embeddings, f)\n"
   ]
  },
  {
   "cell_type": "markdown",
   "metadata": {},
   "source": [
    "#  LECTURA DE LOS ARCHIVOS GENERADOS"
   ]
  },
  {
   "cell_type": "code",
   "execution_count": null,
   "metadata": {},
   "outputs": [],
   "source": [
    "import pickle\n",
    "import numpy as np\n",
    "import pandas as pd\n",
    "from sklearn.metrics.pairwise import cosine_similarity\n",
    "import spacy\n",
    "\n",
    "# Cargar el modelo de lenguaje\n",
    "nlp = spacy.load('en_core_web_sm')\n",
    "\n",
    "# Función de preprocesamiento\n",
    "def advanced_preprocess(text):\n",
    "    doc = nlp(text.lower())\n",
    "    tokens = [token.lemma_ for token in doc if not token.is_punct and not token.is_space and not token.is_stop]\n",
    "    return tokens\n",
    "\n",
    "# Función para calcular el embedding ponderado por TF-IDF\n",
    "def get_weighted_sentence_embedding(sentence, embeddings_index, idf_dict, vector_size=300):\n",
    "    tokens = advanced_preprocess(sentence)\n",
    "    word_embeddings = []\n",
    "    weights = []\n",
    "    for word in tokens:\n",
    "        if word in embeddings_index and word in idf_dict:\n",
    "            word_embeddings.append(embeddings_index[word])\n",
    "            weights.append(idf_dict[word])\n",
    "    if not word_embeddings:\n",
    "        return np.zeros(vector_size)\n",
    "    word_embeddings = np.array(word_embeddings)\n",
    "    weights = np.array(weights).reshape(-1, 1)\n",
    "    weighted_average = np.sum(word_embeddings * weights, axis=0) / np.sum(weights)\n",
    "    return weighted_average\n",
    "\n",
    "# Función para encontrar los contextos más relevantes\n",
    "def find_most_relevant_contexts(question, df, embeddings_index, idf_dict, top_n=3, vector_size=300):\n",
    "    question_embedding = get_weighted_sentence_embedding(question, embeddings_index, idf_dict, vector_size)\n",
    "    context_embeddings = np.vstack(df['embeddings'].values)\n",
    "    similarities = cosine_similarity([question_embedding], context_embeddings)[0]\n",
    "    df['similarity'] = similarities\n",
    "    top_indices = df['similarity'].argsort()[-top_n:][::-1]\n",
    "    most_relevant_contexts = df.iloc[top_indices][['text', 'similarity']].to_dict(orient='records')\n",
    "    return most_relevant_contexts\n",
    "\n",
    "# Cargar los datos guardados\n",
    "with open('idf_dict.pkl', 'rb') as f:\n",
    "    idf_dict = pickle.load(f)\n",
    "\n",
    "with open('glove_embeddings.pkl', 'rb') as f:\n",
    "    glove_embeddings = pickle.load(f)\n",
    "\n",
    "df = pd.read_pickle('context_embeddings.pkl')\n",
    "\n",
    "# Función para responder una pregunta\n",
    "def answer_question(question, top_n=3):\n",
    "    results = find_most_relevant_contexts(question, df, glove_embeddings, idf_dict, top_n=top_n, vector_size=300)\n",
    "    print(\"\\nPregunta:\", question)\n",
    "    print(\"Contextos más relevantes:\")\n",
    "    for idx, result in enumerate(results, 1):\n",
    "        print(f\"{idx}. {result['text']} (Similitud: {result['similarity']:.2f})\")\n",
    "\n",
    "# Ejemplo de uso\n",
    "question = \"What is the capital of France?\"\n",
    "answer_question(question, top_n=3)\n"
   ]
  }
 ],
 "metadata": {
  "kernelspec": {
   "display_name": ".venv",
   "language": "python",
   "name": "python3"
  },
  "language_info": {
   "codemirror_mode": {
    "name": "ipython",
    "version": 3
   },
   "file_extension": ".py",
   "mimetype": "text/x-python",
   "name": "python",
   "nbconvert_exporter": "python",
   "pygments_lexer": "ipython3",
   "version": "3.11.11"
  }
 },
 "nbformat": 4,
 "nbformat_minor": 2
}
